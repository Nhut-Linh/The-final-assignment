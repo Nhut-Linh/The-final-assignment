{
 "cells": [
  {
   "cell_type": "markdown",
   "id": "38d57b32",
   "metadata": {},
   "source": [
    "# Data Science Tools and Ecosystem"
   ]
  },
  {
   "cell_type": "markdown",
   "id": "0ffd5fb2",
   "metadata": {},
   "source": [
    "In this notebook, Data Science Tools and Ecosystem are summarized."
   ]
  },
  {
   "cell_type": "markdown",
   "id": "c6c468c4-a645-4525-a46f-b7bbdf285f69",
   "metadata": {
    "tags": []
   },
   "source": [
    "**Objectives:**\n",
    "+ Repository\n",
    "+ Branch\n",
    "+ IDE\n",
    "+ APIs\n",
    "+ Dataset"
   ]
  },
  {
   "cell_type": "markdown",
   "id": "8815d9c6",
   "metadata": {},
   "source": [
    "Some of the popular languages that Data Scientists use are:\n",
    "1. Python\n",
    "2. R\n",
    "3. SQL"
   ]
  },
  {
   "cell_type": "markdown",
   "id": "64c82b1b",
   "metadata": {},
   "source": [
    "Some of the commonly used libraries used by Data Scientists include:\n",
    "1. Pandas\n",
    "2. NumPy\n",
    "3. Matplotlib"
   ]
  },
  {
   "cell_type": "markdown",
   "id": "b6b78d15-d32d-4a20-af3b-cfd53f36c7d8",
   "metadata": {},
   "source": [
    "|Data Science Tools|\n",
    "|------------------|\n",
    "|Jupyer Notebook|\n",
    "|RStudio|\n",
    "|GitHub|"
   ]
  },
  {
   "cell_type": "markdown",
   "id": "019fc59a-ebbc-48f8-87bf-a0699a763dfe",
   "metadata": {},
   "source": [
    "### Below are a few examples of evaluating arithmetic expressions in Python."
   ]
  },
  {
   "cell_type": "code",
   "execution_count": 2,
   "id": "dccb7317-8a59-4700-aa71-caede8a3cb65",
   "metadata": {
    "tags": []
   },
   "outputs": [
    {
     "data": {
      "text/plain": [
       "17"
      ]
     },
     "execution_count": 2,
     "metadata": {},
     "output_type": "execute_result"
    }
   ],
   "source": [
    "# This a simple arithmetic expression to mutiply then add integers.\n",
    "(3)*4+5"
   ]
  },
  {
   "cell_type": "code",
   "execution_count": 6,
   "id": "605dce1c-b129-4b5d-ae0d-2432d34eb175",
   "metadata": {
    "tags": []
   },
   "outputs": [
    {
     "data": {
      "text/plain": [
       "3.3333333333333335"
      ]
     },
     "execution_count": 6,
     "metadata": {},
     "output_type": "execute_result"
    }
   ],
   "source": [
    "# This will convert 200 minutes to hours by diving by 60\n",
    "200/60"
   ]
  },
  {
   "cell_type": "markdown",
   "id": "c704ef0a-7630-41f4-8251-8982bf46ca4c",
   "metadata": {},
   "source": [
    "## Author\n",
    "Nhut-Linh"
   ]
  },
  {
   "cell_type": "code",
   "execution_count": null,
   "id": "1698a448-3dd6-4064-8501-f4350eb3360b",
   "metadata": {},
   "outputs": [],
   "source": []
  }
 ],
 "metadata": {
  "kernelspec": {
   "display_name": "Python 3 (ipykernel)",
   "language": "python",
   "name": "python3"
  },
  "language_info": {
   "codemirror_mode": {
    "name": "ipython",
    "version": 3
   },
   "file_extension": ".py",
   "mimetype": "text/x-python",
   "name": "python",
   "nbconvert_exporter": "python",
   "pygments_lexer": "ipython3",
   "version": "3.11.5"
  }
 },
 "nbformat": 4,
 "nbformat_minor": 5
}
